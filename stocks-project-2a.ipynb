{
 "cells": [
  {
   "cell_type": "markdown",
   "id": "72a01b8c",
   "metadata": {},
   "source": [
    "# cs5044 final project experiment 2a: predicting over entire dataset"
   ]
  },
  {
   "cell_type": "code",
   "execution_count": 1,
   "id": "4458c343",
   "metadata": {},
   "outputs": [],
   "source": [
    "%matplotlib inline\n",
    "import math\n",
    "import pandas as pd\n",
    "from pandas.plotting import lag_plot\n",
    "from IPython.display import display\n",
    "from sklearn import preprocessing\n",
    "from sklearn import linear_model, neighbors\n",
    "from sklearn import tree\n",
    "from sklearn import model_selection\n",
    "from sklearn import metrics\n",
    "from sklearn.metrics import mean_squared_error\n",
    "from sklearn.neural_network import MLPRegressor\n",
    "\n",
    "\n",
    "import numpy as np\n",
    "import matplotlib.pyplot as plt\n",
    "import seaborn as sns\n",
    "sns.set()"
   ]
  },
  {
   "cell_type": "markdown",
   "id": "4e22646e",
   "metadata": {},
   "source": [
    "# preprocessing"
   ]
  },
  {
   "cell_type": "markdown",
   "id": "e290f940",
   "metadata": {},
   "source": [
    "### read in data"
   ]
  },
  {
   "cell_type": "code",
   "execution_count": 2,
   "id": "07d7a26c",
   "metadata": {},
   "outputs": [],
   "source": [
    "df_index = pd.read_csv('sp500_index.csv')\n",
    "df_stocks = pd.read_csv('sp500_stocks.csv')\n",
    "df_companies = pd.read_csv('sp500_companies.csv')"
   ]
  },
  {
   "cell_type": "markdown",
   "id": "c80ac7af",
   "metadata": {},
   "source": [
    "### convert to datetime objects"
   ]
  },
  {
   "cell_type": "code",
   "execution_count": 3,
   "id": "4f93567e",
   "metadata": {},
   "outputs": [],
   "source": [
    "df_stocks['Date'] = pd.to_datetime(df_stocks['Date'], utc=True, errors='coerce')\n",
    "df_stocks['Date'] = pd.DatetimeIndex(df_stocks['Date']).date\n",
    "\n",
    "df_index['Date'] = pd.to_datetime(df_index['Date'], utc=True)\n",
    "df_index['Date'] = pd.DatetimeIndex(df_index['Date']).date"
   ]
  },
  {
   "cell_type": "markdown",
   "id": "d37f78f9",
   "metadata": {},
   "source": [
    "### merge"
   ]
  },
  {
   "cell_type": "code",
   "execution_count": 4,
   "id": "4ef16519",
   "metadata": {},
   "outputs": [
    {
     "data": {
      "text/html": [
       "<div>\n",
       "<style scoped>\n",
       "    .dataframe tbody tr th:only-of-type {\n",
       "        vertical-align: middle;\n",
       "    }\n",
       "\n",
       "    .dataframe tbody tr th {\n",
       "        vertical-align: top;\n",
       "    }\n",
       "\n",
       "    .dataframe thead th {\n",
       "        text-align: right;\n",
       "    }\n",
       "</style>\n",
       "<table border=\"1\" class=\"dataframe\">\n",
       "  <thead>\n",
       "    <tr style=\"text-align: right;\">\n",
       "      <th></th>\n",
       "      <th>Exchange</th>\n",
       "      <th>Symbol</th>\n",
       "      <th>Shortname</th>\n",
       "      <th>Longname</th>\n",
       "      <th>Sector</th>\n",
       "      <th>Industry</th>\n",
       "      <th>Currentprice</th>\n",
       "      <th>Marketcap</th>\n",
       "      <th>Ebitda</th>\n",
       "      <th>Revenuegrowth</th>\n",
       "      <th>...</th>\n",
       "      <th>Longbusinesssummary</th>\n",
       "      <th>Weight</th>\n",
       "      <th>Date</th>\n",
       "      <th>Adj Close</th>\n",
       "      <th>Close</th>\n",
       "      <th>High</th>\n",
       "      <th>Low</th>\n",
       "      <th>Open</th>\n",
       "      <th>Volume</th>\n",
       "      <th>S&amp;P500</th>\n",
       "    </tr>\n",
       "  </thead>\n",
       "  <tbody>\n",
       "    <tr>\n",
       "      <th>0</th>\n",
       "      <td>NMS</td>\n",
       "      <td>AAPL</td>\n",
       "      <td>Apple Inc.</td>\n",
       "      <td>Apple Inc.</td>\n",
       "      <td>Technology</td>\n",
       "      <td>Consumer Electronics</td>\n",
       "      <td>140.42</td>\n",
       "      <td>2256661643264</td>\n",
       "      <td>1.295570e+11</td>\n",
       "      <td>0.019</td>\n",
       "      <td>...</td>\n",
       "      <td>Apple Inc. designs, manufactures, and markets ...</td>\n",
       "      <td>0.070093</td>\n",
       "      <td>2012-10-11</td>\n",
       "      <td>19.372286</td>\n",
       "      <td>22.432142</td>\n",
       "      <td>23.114286</td>\n",
       "      <td>22.432142</td>\n",
       "      <td>23.089287</td>\n",
       "      <td>546081200.0</td>\n",
       "      <td>1432.84</td>\n",
       "    </tr>\n",
       "    <tr>\n",
       "      <th>1</th>\n",
       "      <td>NMS</td>\n",
       "      <td>MSFT</td>\n",
       "      <td>Microsoft Corporation</td>\n",
       "      <td>Microsoft Corporation</td>\n",
       "      <td>Technology</td>\n",
       "      <td>Software—Infrastructure</td>\n",
       "      <td>229.25</td>\n",
       "      <td>1721204342784</td>\n",
       "      <td>9.798300e+10</td>\n",
       "      <td>0.124</td>\n",
       "      <td>...</td>\n",
       "      <td>Microsoft Corporation develops, licenses, and ...</td>\n",
       "      <td>0.053462</td>\n",
       "      <td>2012-10-11</td>\n",
       "      <td>23.988226</td>\n",
       "      <td>28.950001</td>\n",
       "      <td>29.250000</td>\n",
       "      <td>28.870001</td>\n",
       "      <td>29.219999</td>\n",
       "      <td>41488500.0</td>\n",
       "      <td>1432.84</td>\n",
       "    </tr>\n",
       "    <tr>\n",
       "      <th>2</th>\n",
       "      <td>NMS</td>\n",
       "      <td>GOOGL</td>\n",
       "      <td>Alphabet Inc.</td>\n",
       "      <td>Alphabet Inc.</td>\n",
       "      <td>Communication Services</td>\n",
       "      <td>Internet Content &amp; Information</td>\n",
       "      <td>97.86</td>\n",
       "      <td>1281926889472</td>\n",
       "      <td>9.688700e+10</td>\n",
       "      <td>0.126</td>\n",
       "      <td>...</td>\n",
       "      <td>Alphabet Inc. provides various products and pl...</td>\n",
       "      <td>0.039818</td>\n",
       "      <td>2012-10-11</td>\n",
       "      <td>18.805805</td>\n",
       "      <td>18.805805</td>\n",
       "      <td>18.981482</td>\n",
       "      <td>18.776026</td>\n",
       "      <td>18.841341</td>\n",
       "      <td>95260644.0</td>\n",
       "      <td>1432.84</td>\n",
       "    </tr>\n",
       "    <tr>\n",
       "      <th>3</th>\n",
       "      <td>NMS</td>\n",
       "      <td>GOOG</td>\n",
       "      <td>Alphabet Inc.</td>\n",
       "      <td>Alphabet Inc.</td>\n",
       "      <td>Communication Services</td>\n",
       "      <td>Internet Content &amp; Information</td>\n",
       "      <td>98.71</td>\n",
       "      <td>1281502609408</td>\n",
       "      <td>9.688700e+10</td>\n",
       "      <td>0.126</td>\n",
       "      <td>...</td>\n",
       "      <td>Alphabet Inc. provides various products and pl...</td>\n",
       "      <td>0.039804</td>\n",
       "      <td>2012-10-11</td>\n",
       "      <td>18.716845</td>\n",
       "      <td>18.716845</td>\n",
       "      <td>18.891689</td>\n",
       "      <td>18.687206</td>\n",
       "      <td>18.752213</td>\n",
       "      <td>95713418.0</td>\n",
       "      <td>1432.84</td>\n",
       "    </tr>\n",
       "    <tr>\n",
       "      <th>4</th>\n",
       "      <td>NMS</td>\n",
       "      <td>AMZN</td>\n",
       "      <td>Amazon.com, Inc.</td>\n",
       "      <td>Amazon.com, Inc.</td>\n",
       "      <td>Consumer Cyclical</td>\n",
       "      <td>Internet Retail</td>\n",
       "      <td>113.67</td>\n",
       "      <td>1158024396800</td>\n",
       "      <td>5.262000e+10</td>\n",
       "      <td>0.072</td>\n",
       "      <td>...</td>\n",
       "      <td>Amazon.com, Inc. engages in the retail sale of...</td>\n",
       "      <td>0.035969</td>\n",
       "      <td>2012-10-11</td>\n",
       "      <td>12.211000</td>\n",
       "      <td>12.211000</td>\n",
       "      <td>12.465000</td>\n",
       "      <td>12.094500</td>\n",
       "      <td>12.400000</td>\n",
       "      <td>68946000.0</td>\n",
       "      <td>1432.84</td>\n",
       "    </tr>\n",
       "  </tbody>\n",
       "</table>\n",
       "<p>5 rows × 24 columns</p>\n",
       "</div>"
      ],
      "text/plain": [
       "  Exchange Symbol              Shortname               Longname  \\\n",
       "0      NMS   AAPL             Apple Inc.             Apple Inc.   \n",
       "1      NMS   MSFT  Microsoft Corporation  Microsoft Corporation   \n",
       "2      NMS  GOOGL          Alphabet Inc.          Alphabet Inc.   \n",
       "3      NMS   GOOG          Alphabet Inc.          Alphabet Inc.   \n",
       "4      NMS   AMZN       Amazon.com, Inc.       Amazon.com, Inc.   \n",
       "\n",
       "                   Sector                        Industry  Currentprice  \\\n",
       "0              Technology            Consumer Electronics        140.42   \n",
       "1              Technology         Software—Infrastructure        229.25   \n",
       "2  Communication Services  Internet Content & Information         97.86   \n",
       "3  Communication Services  Internet Content & Information         98.71   \n",
       "4       Consumer Cyclical                 Internet Retail        113.67   \n",
       "\n",
       "       Marketcap        Ebitda  Revenuegrowth  ...  \\\n",
       "0  2256661643264  1.295570e+11          0.019  ...   \n",
       "1  1721204342784  9.798300e+10          0.124  ...   \n",
       "2  1281926889472  9.688700e+10          0.126  ...   \n",
       "3  1281502609408  9.688700e+10          0.126  ...   \n",
       "4  1158024396800  5.262000e+10          0.072  ...   \n",
       "\n",
       "                                 Longbusinesssummary    Weight        Date  \\\n",
       "0  Apple Inc. designs, manufactures, and markets ...  0.070093  2012-10-11   \n",
       "1  Microsoft Corporation develops, licenses, and ...  0.053462  2012-10-11   \n",
       "2  Alphabet Inc. provides various products and pl...  0.039818  2012-10-11   \n",
       "3  Alphabet Inc. provides various products and pl...  0.039804  2012-10-11   \n",
       "4  Amazon.com, Inc. engages in the retail sale of...  0.035969  2012-10-11   \n",
       "\n",
       "   Adj Close      Close       High        Low       Open       Volume   S&P500  \n",
       "0  19.372286  22.432142  23.114286  22.432142  23.089287  546081200.0  1432.84  \n",
       "1  23.988226  28.950001  29.250000  28.870001  29.219999   41488500.0  1432.84  \n",
       "2  18.805805  18.805805  18.981482  18.776026  18.841341   95260644.0  1432.84  \n",
       "3  18.716845  18.716845  18.891689  18.687206  18.752213   95713418.0  1432.84  \n",
       "4  12.211000  12.211000  12.465000  12.094500  12.400000   68946000.0  1432.84  \n",
       "\n",
       "[5 rows x 24 columns]"
      ]
     },
     "execution_count": 4,
     "metadata": {},
     "output_type": "execute_result"
    }
   ],
   "source": [
    "df = df_companies.merge(df_stocks, on='Symbol', how='inner')\n",
    "df = df.merge(df_index, on='Date')\n",
    "df.head()"
   ]
  },
  {
   "cell_type": "markdown",
   "id": "db08e748",
   "metadata": {},
   "source": [
    "### drop irrelevant columns"
   ]
  },
  {
   "cell_type": "code",
   "execution_count": 5,
   "id": "ff228df3",
   "metadata": {},
   "outputs": [],
   "source": [
    "df.drop(labels=['Shortname', 'Longname', 'City', 'Longbusinesssummary', 'Date'], axis=1, inplace=True)"
   ]
  },
  {
   "cell_type": "markdown",
   "id": "6c9eaba9",
   "metadata": {},
   "source": [
    "### one hot encode "
   ]
  },
  {
   "cell_type": "code",
   "execution_count": null,
   "id": "8e1adc50",
   "metadata": {},
   "outputs": [],
   "source": [
    "ohe = preprocessing.OneHotEncoder(dtype=int, sparse=False, handle_unknown=\"ignore\")\n",
    "data = ohe.fit_transform(df[['Exchange', 'Sector', 'Industry', 'State', 'Country']])\n",
    "cats = pd.DataFrame(data, columns=ohe.get_feature_names())\n",
    "snp_df = pd.concat([cats, df], axis=1)\n",
    "snp_df.drop(columns=['Exchange', 'Sector', 'Industry', 'State', 'Country'], inplace=True)\n",
    "\n",
    "snp_df"
   ]
  },
  {
   "cell_type": "markdown",
   "id": "6b61df1e",
   "metadata": {},
   "source": [
    "### check % of missing values"
   ]
  },
  {
   "cell_type": "code",
   "execution_count": null,
   "id": "da7fd060",
   "metadata": {},
   "outputs": [],
   "source": [
    "pd.options.display.max_columns = None\n",
    "pd.options.display.max_rows = 250\n",
    "percent_missing = snp_df.isnull().sum() * 100 / len(snp_df)\n",
    "missing_value_df = pd.DataFrame({'column_name': snp_df.columns,\n",
    "'percent_missing': percent_missing})\n",
    "\n",
    "missing_value_df"
   ]
  },
  {
   "cell_type": "markdown",
   "id": "14b22a88",
   "metadata": {},
   "source": [
    "### drop missing values"
   ]
  },
  {
   "cell_type": "code",
   "execution_count": null,
   "id": "a40fb1f6",
   "metadata": {},
   "outputs": [],
   "source": [
    "snp_df.dropna(inplace=True)\n",
    "snp_df"
   ]
  },
  {
   "cell_type": "markdown",
   "id": "90c707cb",
   "metadata": {},
   "source": [
    "### separate target and features"
   ]
  },
  {
   "cell_type": "code",
   "execution_count": null,
   "id": "9a2b48cc",
   "metadata": {},
   "outputs": [],
   "source": [
    "snp_xvalues = snp_df.drop([\"Adj Close\", \"Close\", \"High\", \"Low\", \"Open\", \"Symbol\"], axis=1)\n",
    "snp_target = snp_df[\"Adj Close\"]"
   ]
  },
  {
   "cell_type": "markdown",
   "id": "9fcdc208",
   "metadata": {},
   "source": [
    "# linear regression"
   ]
  },
  {
   "cell_type": "code",
   "execution_count": null,
   "id": "a0ed8e13",
   "metadata": {},
   "outputs": [],
   "source": [
    "reg = linear_model.LinearRegression()\n",
    "\n",
    "kf = model_selection.KFold(n_splits=5, shuffle=False)\n",
    "\n",
    "r2scores = []\n",
    "MSEscores = []\n",
    "\n",
    "for train_index, test_index in kf.split(snp_df[:100000]):\n",
    "    X_train, X_test = snp_xvalues.iloc[train_index], snp_xvalues.iloc[test_index]\n",
    "    y_train, y_test = snp_target.iloc[train_index], snp_target.iloc[test_index]\n",
    "    reg.fit(X_train, y_train)\n",
    "    y_pred = reg.predict(X_test)\n",
    "    r2scores.append(metrics.r2_score(y_test, y_pred))\n",
    "    MSEscores.append(math.sqrt(metrics.mean_squared_error(y_test, y_pred)))\n",
    "    print(\"r2=  {}\".format(metrics.r2_score(y_test, y_pred)))\n",
    "    print(\"root MSE= {}\".format(math.sqrt(metrics.mean_squared_error(y_test, y_pred))))\n",
    "    print()\n",
    "\n",
    "print(\"average r2=  {}\".format(np.mean(r2scores)))\n",
    "print(\"std=  {}\".format(np.std(r2scores)))\n",
    "print(\"average root MSE=  {}\".format(np.mean(MSEscores)))\n",
    "print(\"std=  {}\".format(np.std(MSEscores)))\n",
    "print()\n",
    "\n",
    "print(\"predicted:\")\n",
    "print(y_pred[-25:])\n",
    "print(\"ground truth:\")\n",
    "print(snp_target[-25:].values)"
   ]
  },
  {
   "cell_type": "markdown",
   "id": "9cc6787d",
   "metadata": {},
   "source": [
    "# kNN regression"
   ]
  },
  {
   "cell_type": "markdown",
   "id": "660aae30",
   "metadata": {},
   "source": [
    "### k=1"
   ]
  },
  {
   "cell_type": "code",
   "execution_count": null,
   "id": "80ad3dbf",
   "metadata": {},
   "outputs": [],
   "source": [
    "knn_reg = neighbors.KNeighborsRegressor(n_neighbors=1, weights='uniform')\n",
    "\n",
    "kf = model_selection.KFold(n_splits=5, shuffle=False)\n",
    "\n",
    "r2scores = []\n",
    "MSEscores = []\n",
    "\n",
    "for train_index, test_index in kf.split(snp_df[:100000]):\n",
    "    X_train, X_test = snp_xvalues.iloc[train_index], snp_xvalues.iloc[test_index]\n",
    "    y_train, y_test = snp_target.iloc[train_index], snp_target.iloc[test_index]\n",
    "    knn_reg.fit(X_train, y_train)\n",
    "    y_pred = knn_reg.predict(X_test)\n",
    "    r2scores.append(metrics.r2_score(y_test, y_pred))\n",
    "    MSEscores.append(math.sqrt(metrics.mean_squared_error(y_test, y_pred)))\n",
    "    print(\"r2=  {}\".format(metrics.r2_score(y_test, y_pred)))\n",
    "    print(\"root MSE= {}\".format(math.sqrt(metrics.mean_squared_error(y_test, y_pred))))\n",
    "    print()\n",
    "\n",
    "print(\"average r2=  {}\".format(np.mean(r2scores)))\n",
    "print(\"std=  {}\".format(np.std(r2scores)))\n",
    "print(\"average root MSE=  {}\".format(np.mean(MSEscores)))\n",
    "print(\"std=  {}\".format(np.std(MSEscores)))\n",
    "print()\n",
    "\n",
    "print(\"predicted:\")\n",
    "print(y_pred[-25:])\n",
    "print(\"ground truth:\")\n",
    "print(snp_target[-25:].values)"
   ]
  },
  {
   "cell_type": "markdown",
   "id": "28bd4a98",
   "metadata": {},
   "source": [
    "### k=3"
   ]
  },
  {
   "cell_type": "code",
   "execution_count": null,
   "id": "9de18a65",
   "metadata": {},
   "outputs": [],
   "source": [
    "knn_reg = neighbors.KNeighborsRegressor(n_neighbors=3, weights='uniform')\n",
    "\n",
    "kf = model_selection.KFold(n_splits=5, shuffle=True)\n",
    "\n",
    "r2scores = []\n",
    "MSEscores = []\n",
    "\n",
    "for train_index, test_index in kf.split(snp_df[:100000]):\n",
    "    X_train, X_test = snp_xvalues.iloc[train_index], snp_xvalues.iloc[test_index]\n",
    "    y_train, y_test = snp_target.iloc[train_index], snp_target.iloc[test_index]\n",
    "    knn_reg.fit(X_train, y_train)\n",
    "    y_pred = knn_reg.predict(X_test)\n",
    "    r2scores.append(metrics.r2_score(y_test, y_pred))\n",
    "    MSEscores.append(math.sqrt(metrics.mean_squared_error(y_test, y_pred)))\n",
    "    print(\"r2=  {}\".format(metrics.r2_score(y_test, y_pred)))\n",
    "    print(\"root MSE= {}\".format(math.sqrt(metrics.mean_squared_error(y_test, y_pred))))\n",
    "    print()\n",
    "\n",
    "print(\"average r2=  {}\".format(np.mean(r2scores)))\n",
    "print(\"std=  {}\".format(np.std(r2scores)))\n",
    "print(\"average root MSE=  {}\".format(np.mean(MSEscores)))\n",
    "print(\"std=  {}\".format(np.std(MSEscores)))\n",
    "print()\n",
    "\n",
    "print(\"predicted:\")\n",
    "print(y_pred[-25:])\n",
    "print(\"ground truth:\")\n",
    "print(snp_target[-25:].values)"
   ]
  },
  {
   "cell_type": "markdown",
   "id": "45a17add",
   "metadata": {},
   "source": [
    "### k=5"
   ]
  },
  {
   "cell_type": "code",
   "execution_count": null,
   "id": "0f5de34f",
   "metadata": {},
   "outputs": [],
   "source": [
    "knn_reg = neighbors.KNeighborsRegressor(n_neighbors=5, weights='uniform')\n",
    "\n",
    "kf = model_selection.KFold(n_splits=5, shuffle=True)\n",
    "\n",
    "r2scores = []\n",
    "MSEscores = []\n",
    "\n",
    "for train_index, test_index in kf.split(snp_df[:100000]):\n",
    "    X_train, X_test = snp_xvalues.iloc[train_index], snp_xvalues.iloc[test_index]\n",
    "    y_train, y_test = snp_target.iloc[train_index], snp_target.iloc[test_index]\n",
    "    knn_reg.fit(X_train, y_train)\n",
    "    y_pred = knn_reg.predict(X_test)\n",
    "    r2scores.append(metrics.r2_score(y_test, y_pred))\n",
    "    MSEscores.append(math.sqrt(metrics.mean_squared_error(y_test, y_pred)))\n",
    "    print(\"r2=  {}\".format(metrics.r2_score(y_test, y_pred)))\n",
    "    print(\"root MSE= {}\".format(math.sqrt(metrics.mean_squared_error(y_test, y_pred))))\n",
    "    print()\n",
    "\n",
    "print(\"average r2=  {}\".format(np.mean(r2scores)))\n",
    "print(\"std=  {}\".format(np.std(r2scores)))\n",
    "print(\"average root MSE=  {}\".format(np.mean(MSEscores)))\n",
    "print(\"std=  {}\".format(np.std(MSEscores)))\n",
    "print()\n",
    "\n",
    "print(\"predicted:\")\n",
    "print(y_pred[-25:])\n",
    "print(\"ground truth:\")\n",
    "print(snp_target[-25:].values)"
   ]
  },
  {
   "cell_type": "markdown",
   "id": "76b6e9d0",
   "metadata": {},
   "source": [
    "# neural network"
   ]
  },
  {
   "cell_type": "code",
   "execution_count": null,
   "id": "42099cac",
   "metadata": {},
   "outputs": [],
   "source": [
    "X = snp_xvalues.to_numpy()\n",
    "y = snp_target.to_numpy()"
   ]
  },
  {
   "cell_type": "markdown",
   "id": "2da21582",
   "metadata": {},
   "source": [
    "## activation='relu'"
   ]
  },
  {
   "cell_type": "markdown",
   "id": "a7361f1a",
   "metadata": {},
   "source": [
    "### layers=1, size=100"
   ]
  },
  {
   "cell_type": "code",
   "execution_count": null,
   "id": "58b12674",
   "metadata": {},
   "outputs": [],
   "source": [
    "kfold = model_selection.KFold(5, shuffle=True, random_state=2)\n",
    "\n",
    "r2= []\n",
    "RMSE = []\n",
    "\n",
    "for train_idx, test_idx in kfold.split(snp_df[:100000]):\n",
    "    X_train, X_test = X[train_idx], X[test_idx]\n",
    "    y_train, y_test = y[train_idx], y[test_idx]\n",
    "    \n",
    "    mlp_regr = MLPRegressor(hidden_layer_sizes=(100), max_iter=2000, activation=\"relu\", random_state=2)\n",
    "    X_scaler = preprocessing.MinMaxScaler()\n",
    "    \n",
    "    X_train = X_scaler.fit_transform(X_train)    \n",
    "    \n",
    "    mlp_regr.fit(X_train, y_train)\n",
    "    \n",
    "    X_test = X_scaler.transform(X_test)\n",
    "    y_pred = mlp_regr.predict(X_test)\n",
    "    \n",
    "    r2 += [metrics.r2_score(y_test, y_pred)]\n",
    "    RMSE += [math.sqrt(metrics.mean_squared_error(y_test, y_pred))]\n",
    "\n",
    "print(\"r2    = {:.4f} ±{:.4f}\".format(np.mean(r2), np.std(r2)))\n",
    "print(\"RMSE = {:.4f} ±{:.4f}\".format(np.mean(RMSE), np.std(RMSE)))"
   ]
  },
  {
   "cell_type": "markdown",
   "id": "1e75e832",
   "metadata": {},
   "source": [
    "### layers=2, size=100"
   ]
  },
  {
   "cell_type": "code",
   "execution_count": null,
   "id": "019f602d",
   "metadata": {},
   "outputs": [],
   "source": [
    "kfold = model_selection.KFold(5, shuffle=True, random_state=2)\n",
    "\n",
    "r2= []\n",
    "RMSE = []\n",
    "\n",
    "for train_idx, test_idx in kfold.split(snp_df[:100000]):\n",
    "    X_train, X_test = X[train_idx], X[test_idx]\n",
    "    y_train, y_test = y[train_idx], y[test_idx]\n",
    "    \n",
    "    mlp_regr = MLPRegressor(hidden_layer_sizes=(100, 100), max_iter=2000, activation=\"relu\", random_state=2)\n",
    "    X_scaler = preprocessing.MinMaxScaler()\n",
    "    \n",
    "    X_train = X_scaler.fit_transform(X_train)    \n",
    "    \n",
    "    mlp_regr.fit(X_train, y_train)\n",
    "    \n",
    "    X_test = X_scaler.transform(X_test)\n",
    "    y_pred = mlp_regr.predict(X_test)\n",
    "    \n",
    "    r2 += [metrics.r2_score(y_test, y_pred)]\n",
    "    RMSE += [math.sqrt(metrics.mean_squared_error(y_test, y_pred))]\n",
    "\n",
    "print(\"r2    = {:.4f} ±{:.4f}\".format(np.mean(r2), np.std(r2)))\n",
    "print(\"RMSE = {:.4f} ±{:.4f}\".format(np.mean(RMSE), np.std(RMSE)))"
   ]
  },
  {
   "cell_type": "markdown",
   "id": "aa850246",
   "metadata": {},
   "source": [
    "## activation='tanh'"
   ]
  },
  {
   "cell_type": "markdown",
   "id": "d2ec88ec",
   "metadata": {},
   "source": [
    "### layers=1, size=100"
   ]
  },
  {
   "cell_type": "code",
   "execution_count": null,
   "id": "659ba54a",
   "metadata": {},
   "outputs": [],
   "source": [
    "kfold = model_selection.KFold(5, shuffle=True, random_state=2)\n",
    "\n",
    "r2= []\n",
    "RMSE = []\n",
    "\n",
    "for train_idx, test_idx in kfold.split(snp_df[:100000]):\n",
    "    X_train, X_test = X[train_idx], X[test_idx]\n",
    "    y_train, y_test = y[train_idx], y[test_idx]\n",
    "    \n",
    "    mlp_regr = MLPRegressor(hidden_layer_sizes=(100), max_iter=2000, activation=\"tanh\", random_state=2)\n",
    "    X_scaler = preprocessing.MinMaxScaler()\n",
    "    \n",
    "    X_train = X_scaler.fit_transform(X_train)    \n",
    "    \n",
    "    mlp_regr.fit(X_train, y_train)\n",
    "    \n",
    "    X_test = X_scaler.transform(X_test)\n",
    "    y_pred = mlp_regr.predict(X_test)\n",
    "    \n",
    "    r2 += [metrics.r2_score(y_test, y_pred)]\n",
    "    RMSE += [math.sqrt(metrics.mean_squared_error(y_test, y_pred))]\n",
    "\n",
    "print(\"r2    = {:.4f} ±{:.4f}\".format(np.mean(r2), np.std(r2)))\n",
    "print(\"RMSE = {:.4f} ±{:.4f}\".format(np.mean(RMSE), np.std(RMSE)))"
   ]
  },
  {
   "cell_type": "markdown",
   "id": "63100b1e",
   "metadata": {},
   "source": [
    "### layers=2, size=100"
   ]
  },
  {
   "cell_type": "code",
   "execution_count": null,
   "id": "f4e541e7",
   "metadata": {},
   "outputs": [],
   "source": [
    "kfold = model_selection.KFold(5, shuffle=True, random_state=2)\n",
    "\n",
    "r2= []\n",
    "RMSE = []\n",
    "\n",
    "for train_idx, test_idx in kfold.split(snp_df[:100000]):\n",
    "    X_train, X_test = X[train_idx], X[test_idx]\n",
    "    y_train, y_test = y[train_idx], y[test_idx]\n",
    "    \n",
    "    mlp_regr = MLPRegressor(hidden_layer_sizes=(100), max_iter=2000, activation=\"tanh\", random_state=2)\n",
    "    X_scaler = preprocessing.MinMaxScaler()\n",
    "    \n",
    "    X_train = X_scaler.fit_transform(X_train)    \n",
    "    \n",
    "    mlp_regr.fit(X_train, y_train)\n",
    "    \n",
    "    X_test = X_scaler.transform(X_test)\n",
    "    y_pred = mlp_regr.predict(X_test)\n",
    "    \n",
    "    r2 += [metrics.r2_score(y_test, y_pred)]\n",
    "    RMSE += [math.sqrt(metrics.mean_squared_error(y_test, y_pred))]\n",
    "\n",
    "print(\"r2    = {:.4f} ±{:.4f}\".format(np.mean(r2), np.std(r2)))\n",
    "print(\"RMSE = {:.4f} ±{:.4f}\".format(np.mean(RMSE), np.std(RMSE)))"
   ]
  }
 ],
 "metadata": {
  "kernelspec": {
   "display_name": "Python 3 (ipykernel)",
   "language": "python",
   "name": "python3"
  },
  "language_info": {
   "codemirror_mode": {
    "name": "ipython",
    "version": 3
   },
   "file_extension": ".py",
   "mimetype": "text/x-python",
   "name": "python",
   "nbconvert_exporter": "python",
   "pygments_lexer": "ipython3",
   "version": "3.9.12"
  }
 },
 "nbformat": 4,
 "nbformat_minor": 5
}
